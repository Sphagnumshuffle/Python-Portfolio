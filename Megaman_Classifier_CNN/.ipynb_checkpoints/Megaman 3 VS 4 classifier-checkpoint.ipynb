{
 "cells": [
  {
   "cell_type": "code",
   "execution_count": null,
   "metadata": {},
   "outputs": [],
   "source": [
    "# Loading libraries ----\n",
    "\n",
    "# misc\n",
    "import os\n",
    "import shutil\n",
    "from random import sample, randint, shuffle\n",
    "import math\n",
    "import numpy as np\n",
    "import pandas as pd\n",
    "from skimage.segmentation import mark_boundaries\n",
    "\n",
    "# sci-kit learn\n",
    "from sklearn import metrics\n",
    "from sklearn.model_selection import train_test_split\n",
    "from sklearn.linear_model import LogisticRegression\n",
    "\n",
    "# plots\n",
    "import matplotlib.pyplot as plt\n",
    "%matplotlib inline\n",
    "import seaborn as sns\n",
    "\n",
    "# youtube\n",
    "from pytube import YouTube\n",
    "\n",
    "# image operation\n",
    "import cv2\n",
    "from PIL import Image\n",
    "\n",
    "# keras \n",
    "import keras\n",
    "from keras.models import Sequential\n",
    "from keras.layers import Conv2D, MaxPooling2D, Flatten, Dense, Dropout\n",
    "from keras.preprocessing.image import ImageDataGenerator, array_to_img, img_to_array, load_img\n",
    "from keras.applications import inception_v3 as inc_net\n",
    "\n",
    "# lime\n",
    "import lime\n",
    "from lime import lime_image\n",
    "\n",
    "print('Notebook run using keras:', keras.__version__)"
   ]
  },
  {
   "cell_type": "code",
   "execution_count": 24,
   "metadata": {},
   "outputs": [],
   "source": [
    "def scrape_frames(video_name, dest_path, every_x_frame, n_images, skip_seconds):\n",
    "    # function for scraping frames from videos\n",
    "    vidcap = cv2.VideoCapture(video_name)\n",
    "    total_frames = int(vidcap.get(cv2.CAP_PROP_FRAME_COUNT))\n",
    "    fps = int(vidcap.get(cv2.CAP_PROP_FPS))\n",
    "    every_x_frame = math.floor((total_frames - skip_seconds * fps) / n_images) - 1\n",
    "\n",
    "    success,image = vidcap.read()\n",
    "    frame_count = 0\n",
    "    img_count = 0\n",
    "    \n",
    "    while success: \n",
    "        success,image = vidcap.read() #success might be false and image might be None\n",
    "        \n",
    "        if frame_count > (skip_seconds * 30):\n",
    "            # break if the video ended\n",
    "            if not success:\n",
    "                break\n",
    "\n",
    "            # action on every x-th frame \n",
    "            if (frame_count % every_x_frame == 0):\n",
    "                cv2.imwrite(dest_path + \"_\" + str(img_count) + '.jpg', image)   \n",
    "                img_count += 1\n",
    "                if (round(img_count / n_images, 2) * 100 % 10 == 0): \n",
    "                    print(\"Completed:\", round(img_count / n_images, 2), \"done.\", end=\"\\r\")\n",
    "\n",
    "            if img_count == n_images:\n",
    "                break   \n",
    "            \n",
    "        frame_count += 1\n",
    "        \n",
    "def move_random_files(path_from, path_to, n):\n",
    "    # function for moving random files from one directory to another (used for creating train and test set)\n",
    "    files = os.listdir(path_from)\n",
    "    files.sort()\n",
    "    files = files[1:] #omiting .DS_Store\n",
    "\n",
    "    for i in sample(range(0, len(files)-1), n):\n",
    "        f = files[i]\n",
    "        src = path_from + f\n",
    "        dst = path_to + f\n",
    "        shutil.move(src, dst)\n",
    "        \n",
    "def preview_random_image(path):\n",
    "    # function for previewing a random image from a given directory\n",
    "    files = os.listdir(path)\n",
    "    files.sort()\n",
    "    img_name = files[randint(1, len(files) - 1)]\n",
    "    img_preview_name = path + img_name\n",
    "    image = Image.open(img_preview_name)\n",
    "    plt.imshow(image)\n",
    "    plt.title(img_name)\n",
    "    plt.show()\n",
    "    width, height = image.size\n",
    "    print (\"Dimensions:\", image.size, \"Total pixels:\", width * height)\n",
    "    \n",
    "def pretty_cm(y_pred, y_truth, labels):\n",
    "    # pretty implementation of a confusion matrix\n",
    "    cm = metrics.confusion_matrix(y_truth, y_pred)\n",
    "    ax= plt.subplot()\n",
    "    sns.heatmap(cm, annot=True, fmt=\"d\", linewidths=.5, square = True, cmap = 'BuGn_r')\n",
    "    # labels, title and ticks\n",
    "    ax.set_xlabel('Predicted label')\n",
    "    ax.set_ylabel('Actual label')\n",
    "    ax.set_title('Accuracy: {0}'.format(metrics.accuracy_score(y_truth, y_pred)), size = 15) \n",
    "    ax.xaxis.set_ticklabels(labels)\n",
    "    ax.yaxis.set_ticklabels(labels)\n",
    "    \n",
    "def img_to_1d_greyscale(img_path, size):\n",
    "    # function for loading, resizing and converting an image into greyscale\n",
    "    # used for logistic regression\n",
    "    img = cv2.imread(img_path, cv2.IMREAD_GRAYSCALE)\n",
    "    img = cv2.resize(img, size)\n",
    "    return(pd.Series(img.flatten()))\n",
    "\n",
    "def show_image(image):\n",
    "    # function for viewing an image\n",
    "    fig = plt.figure(figsize = (5, 25))\n",
    "    ax = fig.add_subplot(111)\n",
    "    ax.imshow(image, interpolation='none')\n",
    "    plt.show()\n",
    "\n",
    "def transform_image(path, size):\n",
    "    # function for transforming images into a format supported by CNN\n",
    "    x = load_img(path, target_size=(size[0], size[1]))\n",
    "    x = img_to_array(x) / 255\n",
    "    x = np.expand_dims(x, axis=0)\n",
    "    return (x)\n",
    "\n",
    "def evaluation_indices(y_pred, y_test):\n",
    "    # function for getting correctly and incorrectly classified indices\n",
    "    index = 0\n",
    "    correctly_classified_indices = []\n",
    "    misclassified_indices = []\n",
    "    for label, predict in zip(y_test, y_pred):\n",
    "        if label != predict: \n",
    "            misclassified_indices.append(index)\n",
    "        else:\n",
    "            correctly_classified_indices.append(index)\n",
    "        index +=1\n",
    "    return (correctly_classified_indices, misclassified_indices)"
   ]
  },
  {
   "cell_type": "markdown",
   "metadata": {},
   "source": [
    "## Download videos"
   ]
  },
  {
   "cell_type": "code",
   "execution_count": 13,
   "metadata": {},
   "outputs": [],
   "source": [
    "megaman3_video = YouTube('https://www.youtube.com/watch?v=3U0taIY0Jo8')"
   ]
  },
  {
   "cell_type": "code",
   "execution_count": 14,
   "metadata": {},
   "outputs": [
    {
     "name": "stdout",
     "output_type": "stream",
     "text": [
      "Title: NES Longplay Mega Man 3 ---\n",
      "<Stream: itag=\"18\" mime_type=\"video/mp4\" res=\"360p\" fps=\"30fps\" vcodec=\"avc1.42001E\" acodec=\"mp4a.40.2\">\n",
      "<Stream: itag=\"135\" mime_type=\"video/mp4\" res=\"480p\" fps=\"30fps\" vcodec=\"avc1.4d401e\">\n",
      "<Stream: itag=\"134\" mime_type=\"video/mp4\" res=\"360p\" fps=\"30fps\" vcodec=\"avc1.4d4015\">\n",
      "<Stream: itag=\"133\" mime_type=\"video/mp4\" res=\"240p\" fps=\"30fps\" vcodec=\"avc1.4d400c\">\n",
      "<Stream: itag=\"160\" mime_type=\"video/mp4\" res=\"144p\" fps=\"30fps\" vcodec=\"avc1.4d400b\">\n",
      "<Stream: itag=\"140\" mime_type=\"audio/mp4\" abr=\"128kbps\" acodec=\"mp4a.40.2\">\n"
     ]
    }
   ],
   "source": [
    "print('Title:', megaman3_video.title, '---')\n",
    "stream = megaman3_video.streams.filter(file_extension = 'mp4').all()\n",
    "for i in stream:\n",
    "    print(i)"
   ]
  },
  {
   "cell_type": "code",
   "execution_count": 15,
   "metadata": {},
   "outputs": [
    {
     "data": {
      "text/plain": [
       "'/home/ville/Documents/Data_Science/megaman_classifier_cnn/NES Longplay Mega Man 3.mp4'"
      ]
     },
     "execution_count": 15,
     "metadata": {},
     "output_type": "execute_result"
    }
   ],
   "source": [
    "# download the video\n",
    "megaman3_video.streams.get_by_itag(18).download()"
   ]
  },
  {
   "cell_type": "code",
   "execution_count": 16,
   "metadata": {},
   "outputs": [],
   "source": [
    "megaman4_video = YouTube('https://www.youtube.com/watch?v=vlBYMTGfWMs&t=1s')"
   ]
  },
  {
   "cell_type": "code",
   "execution_count": 17,
   "metadata": {},
   "outputs": [
    {
     "name": "stdout",
     "output_type": "stream",
     "text": [
      "Title: NES Longplay Mega Man 4 ---\n",
      "<Stream: itag=\"18\" mime_type=\"video/mp4\" res=\"360p\" fps=\"30fps\" vcodec=\"avc1.42001E\" acodec=\"mp4a.40.2\">\n",
      "<Stream: itag=\"135\" mime_type=\"video/mp4\" res=\"480p\" fps=\"30fps\" vcodec=\"avc1.4d401e\">\n",
      "<Stream: itag=\"134\" mime_type=\"video/mp4\" res=\"360p\" fps=\"30fps\" vcodec=\"avc1.4d4015\">\n",
      "<Stream: itag=\"133\" mime_type=\"video/mp4\" res=\"240p\" fps=\"30fps\" vcodec=\"avc1.4d400c\">\n",
      "<Stream: itag=\"160\" mime_type=\"video/mp4\" res=\"144p\" fps=\"30fps\" vcodec=\"avc1.4d400b\">\n",
      "<Stream: itag=\"140\" mime_type=\"audio/mp4\" abr=\"128kbps\" acodec=\"mp4a.40.2\">\n"
     ]
    }
   ],
   "source": [
    "print('Title:', megaman4_video.title, '---')\n",
    "stream = megaman4_video.streams.filter(file_extension = 'mp4').all()\n",
    "for i in stream:\n",
    "    print(i)"
   ]
  },
  {
   "cell_type": "code",
   "execution_count": 18,
   "metadata": {},
   "outputs": [
    {
     "data": {
      "text/plain": [
       "'/home/ville/Documents/Data_Science/megaman_classifier_cnn/NES Longplay Mega Man 4.mp4'"
      ]
     },
     "execution_count": 18,
     "metadata": {},
     "output_type": "execute_result"
    }
   ],
   "source": [
    "megaman4_video.streams.get_by_itag(18).download()"
   ]
  },
  {
   "cell_type": "markdown",
   "metadata": {},
   "source": [
    "## Cut frames from YouTube Video"
   ]
  },
  {
   "cell_type": "code",
   "execution_count": 20,
   "metadata": {},
   "outputs": [],
   "source": [
    "import scrape_frames"
   ]
  },
  {
   "cell_type": "code",
   "execution_count": 27,
   "metadata": {},
   "outputs": [
    {
     "name": "stdout",
     "output_type": "stream",
     "text": [
      "Completed: 1.0 done.\r"
     ]
    }
   ],
   "source": [
    "# Megaman3\n",
    "scrape_frames('NES Longplay Mega Man 3.mp4',\n",
    "             'training_set/megaman3/megaman3',\n",
    "             every_x_frame = 50,\n",
    "             n_images = 5000,\n",
    "             skip_seconds = 60)"
   ]
  },
  {
   "cell_type": "code",
   "execution_count": 28,
   "metadata": {},
   "outputs": [
    {
     "name": "stdout",
     "output_type": "stream",
     "text": [
      "Completed: 1.0 done.\r"
     ]
    }
   ],
   "source": [
    "# Megaman4\n",
    "scrape_frames('NES Longplay Mega Man 4.mp4',\n",
    "             'training_set/megaman3/megaman4',\n",
    "             every_x_frame = 50,\n",
    "             n_images = 5000,\n",
    "             skip_seconds = 60)"
   ]
  },
  {
   "cell_type": "code",
   "execution_count": null,
   "metadata": {},
   "outputs": [],
   "source": []
  }
 ],
 "metadata": {
  "kernelspec": {
   "display_name": "tensorflow",
   "language": "python",
   "name": "tensorflow"
  },
  "language_info": {
   "codemirror_mode": {
    "name": "ipython",
    "version": 3
   },
   "file_extension": ".py",
   "mimetype": "text/x-python",
   "name": "python",
   "nbconvert_exporter": "python",
   "pygments_lexer": "ipython3",
   "version": "3.6.5"
  }
 },
 "nbformat": 4,
 "nbformat_minor": 2
}
